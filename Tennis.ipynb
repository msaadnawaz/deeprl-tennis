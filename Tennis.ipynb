{
 "cells": [
  {
   "cell_type": "markdown",
   "metadata": {},
   "source": [
    "# Collaboration and Competition\n",
    "\n",
    "---\n",
    "\n",
    "You are welcome to use this coding environment to train your agent for the project.  Follow the instructions below to get started!\n",
    "\n",
    "### 1. Start the Environment\n",
    "\n",
    "Run the next code cell to install a few packages.  This line will take a few minutes to run!"
   ]
  },
  {
   "cell_type": "code",
   "execution_count": 1,
   "metadata": {},
   "outputs": [
    {
     "name": "stdout",
     "output_type": "stream",
     "text": [
      "\u001b[31mtensorflow 1.7.1 has requirement numpy>=1.13.3, but you'll have numpy 1.12.1 which is incompatible.\u001b[0m\r\n",
      "\u001b[31mipython 6.5.0 has requirement prompt-toolkit<2.0.0,>=1.0.15, but you'll have prompt-toolkit 3.0.5 which is incompatible.\u001b[0m\r\n"
     ]
    }
   ],
   "source": [
    "!pip -q install ./python"
   ]
  },
  {
   "cell_type": "markdown",
   "metadata": {},
   "source": [
    "The environment is already saved in the Workspace and can be accessed at the file path provided below. "
   ]
  },
  {
   "cell_type": "code",
   "execution_count": 2,
   "metadata": {},
   "outputs": [
    {
     "name": "stderr",
     "output_type": "stream",
     "text": [
      "INFO:unityagents:\n",
      "'Academy' started successfully!\n",
      "Unity Academy name: Academy\n",
      "        Number of Brains: 1\n",
      "        Number of External Brains : 1\n",
      "        Lesson number : 0\n",
      "        Reset Parameters :\n",
      "\t\t\n",
      "Unity brain name: TennisBrain\n",
      "        Number of Visual Observations (per agent): 0\n",
      "        Vector Observation space type: continuous\n",
      "        Vector Observation space size (per agent): 8\n",
      "        Number of stacked Vector Observation: 3\n",
      "        Vector Action space type: continuous\n",
      "        Vector Action space size (per agent): 2\n",
      "        Vector Action descriptions: , \n"
     ]
    }
   ],
   "source": [
    "from unityagents import UnityEnvironment\n",
    "import numpy as np\n",
    "import random\n",
    "import torch\n",
    "import time\n",
    "from collections import deque\n",
    "import matplotlib.pyplot as plt\n",
    "%matplotlib inline\n",
    "\n",
    "from ddpg_agent import Agent\n",
    "env = UnityEnvironment(file_name=\"/data/Tennis_Linux_NoVis/Tennis\")"
   ]
  },
  {
   "cell_type": "markdown",
   "metadata": {},
   "source": [
    "Environments contain **_brains_** which are responsible for deciding the actions of their associated agents. Here we check for the first brain available, and set it as the default brain we will be controlling from Python."
   ]
  },
  {
   "cell_type": "code",
   "execution_count": 3,
   "metadata": {},
   "outputs": [],
   "source": [
    "# get the default brain\n",
    "brain_name = env.brain_names[0]\n",
    "brain = env.brains[brain_name]"
   ]
  },
  {
   "cell_type": "markdown",
   "metadata": {},
   "source": [
    "### 2. Examine the State and Action Spaces\n",
    "\n",
    "Run the code cell below to print some information about the environment."
   ]
  },
  {
   "cell_type": "code",
   "execution_count": 4,
   "metadata": {},
   "outputs": [
    {
     "name": "stdout",
     "output_type": "stream",
     "text": [
      "Number of agents: 2\n",
      "Size of each action: 2\n",
      "There are 2 agents. Each observes a state with length: 24\n",
      "The state for the first agent looks like: [ 0.          0.          0.          0.          0.          0.          0.\n",
      "  0.          0.          0.          0.          0.          0.          0.\n",
      "  0.          0.         -6.65278625 -1.5        -0.          0.\n",
      "  6.83172083  6.         -0.          0.        ]\n"
     ]
    }
   ],
   "source": [
    "# reset the environment\n",
    "env_info = env.reset(train_mode=True)[brain_name]\n",
    "\n",
    "# number of agents \n",
    "num_agents = len(env_info.agents)\n",
    "print('Number of agents:', num_agents)\n",
    "\n",
    "# size of each action\n",
    "action_size = brain.vector_action_space_size\n",
    "print('Size of each action:', action_size)\n",
    "\n",
    "# examine the state space \n",
    "states = env_info.vector_observations\n",
    "state_size = states.shape[1]\n",
    "print('There are {} agents. Each observes a state with length: {}'.format(states.shape[0], state_size))\n",
    "print('The state for the first agent looks like:', states[0])"
   ]
  },
  {
   "cell_type": "markdown",
   "metadata": {},
   "source": [
    "### 3. Take Random Actions in the Environment\n",
    "\n",
    "In the next code cell, you will learn how to use the Python API to control the agent and receive feedback from the environment.\n",
    "\n",
    "Note that **in this coding environment, you will not be able to watch the agents while they are training**, and you should set `train_mode=True` to restart the environment."
   ]
  },
  {
   "cell_type": "code",
   "execution_count": 5,
   "metadata": {},
   "outputs": [
    {
     "name": "stdout",
     "output_type": "stream",
     "text": [
      "Total score (averaged over agents) this episode: -0.004999999888241291\n",
      "Total score (averaged over agents) this episode: -0.004999999888241291\n",
      "Total score (averaged over agents) this episode: -0.004999999888241291\n",
      "Total score (averaged over agents) this episode: -0.004999999888241291\n",
      "Total score (averaged over agents) this episode: -0.004999999888241291\n"
     ]
    }
   ],
   "source": [
    "for i in range(5):                                         # play game for 5 episodes\n",
    "    env_info = env.reset(train_mode=False)[brain_name]     # reset the environment    \n",
    "    states = env_info.vector_observations                  # get the current state (for each agent)\n",
    "    scores = np.zeros(num_agents)                          # initialize the score (for each agent)\n",
    "    while True:\n",
    "        actions = np.random.randn(num_agents, action_size) # select an action (for each agent)\n",
    "        actions = np.clip(actions, -1, 1)                  # all actions between -1 and 1\n",
    "        env_info = env.step(actions)[brain_name]           # send all actions to tne environment\n",
    "        next_states = env_info.vector_observations         # get next state (for each agent)\n",
    "        rewards = env_info.rewards                         # get reward (for each agent)\n",
    "        dones = env_info.local_done                        # see if episode finished\n",
    "        scores += env_info.rewards                         # update the score (for each agent)\n",
    "        states = next_states                               # roll over states to next time step\n",
    "        if np.any(dones):                                  # exit loop if episode finished\n",
    "            break\n",
    "    print('Total score (averaged over agents) this episode: {}'.format(np.mean(scores)))"
   ]
  },
  {
   "cell_type": "markdown",
   "metadata": {},
   "source": [
    "When finished, you can close the environment."
   ]
  },
  {
   "cell_type": "markdown",
   "metadata": {},
   "source": [
    "### 4. It's Your Turn!\n",
    "\n",
    "Now it's your turn to train your own agent to solve the environment!  A few **important notes**:\n",
    "- When training the environment, set `train_mode=True`, so that the line for resetting the environment looks like the following:\n",
    "```python\n",
    "env_info = env.reset(train_mode=True)[brain_name]\n",
    "```\n",
    "- To structure your work, you're welcome to work directly in this Jupyter notebook, or you might like to start over with a new file!  You can see the list of files in the workspace by clicking on **_Jupyter_** in the top left corner of the notebook.\n",
    "- In this coding environment, you will not be able to watch the agents while they are training.  However, **_after training the agents_**, you can download the saved model weights to watch the agents on your own machine! "
   ]
  },
  {
   "cell_type": "code",
   "execution_count": 6,
   "metadata": {},
   "outputs": [],
   "source": [
    "agent = Agent(state_size=state_size, action_size=action_size, random_seed=7)"
   ]
  },
  {
   "cell_type": "code",
   "execution_count": 7,
   "metadata": {},
   "outputs": [
    {
     "name": "stdout",
     "output_type": "stream",
     "text": [
      "Episode 25\tAverage Score: -0.00\tMaximum Episode Mean Score in Last 25 Episodes: -0.00\n",
      "Episode 50\tAverage Score: -0.00\tMaximum Episode Mean Score in Last 25 Episodes: +0.10\n",
      "Episode 75\tAverage Score: +0.00\tMaximum Episode Mean Score in Last 25 Episodes: +0.10\n",
      "Episode 100\tAverage Score: +0.02\tMaximum Episode Mean Score in Last 25 Episodes: +0.70\n",
      "Episode 125\tAverage Score: +0.05\tMaximum Episode Mean Score in Last 25 Episodes: +1.15\n",
      "Episode 150\tAverage Score: +0.08\tMaximum Episode Mean Score in Last 25 Episodes: +0.45\n",
      "Episode 175\tAverage Score: +0.10\tMaximum Episode Mean Score in Last 25 Episodes: +0.25\n",
      "Episode 200\tAverage Score: +0.11\tMaximum Episode Mean Score in Last 25 Episodes: +0.50\n",
      "Episode 225\tAverage Score: +0.11\tMaximum Episode Mean Score in Last 25 Episodes: +1.35\n",
      "Episode 250\tAverage Score: +0.12\tMaximum Episode Mean Score in Last 25 Episodes: +0.80\n",
      "Episode 275\tAverage Score: +0.15\tMaximum Episode Mean Score in Last 25 Episodes: +0.75\n",
      "Episode 300\tAverage Score: +0.16\tMaximum Episode Mean Score in Last 25 Episodes: +1.15\n",
      "Episode 325\tAverage Score: +0.16\tMaximum Episode Mean Score in Last 25 Episodes: +0.90\n",
      "Episode 350\tAverage Score: +0.20\tMaximum Episode Mean Score in Last 25 Episodes: +1.15\n",
      "Episode 375\tAverage Score: +0.32\tMaximum Episode Mean Score in Last 25 Episodes: +2.55\n",
      "Episode 400\tAverage Score: +0.40\tMaximum Episode Mean Score in Last 25 Episodes: +2.15\n",
      "Episode 425\tAverage Score: +0.49\tMaximum Episode Mean Score in Last 25 Episodes: +2.25\n",
      "Episode 431\tAverage Score: +0.51\tEpisode Mean Score: +1.25\tEpisode Time: 29.87s\n",
      "Environment solved in 431 episodes!\tAverage Score: +0.51\n"
     ]
    }
   ],
   "source": [
    "def ddpg(n_episodes=2000, max_t=2000, print_every=25):\n",
    "    total_scores_deque = deque(maxlen=100)\n",
    "    interval_scores_deque = deque(maxlen=25)\n",
    "    total_scores = []\n",
    "    \n",
    "    for i_episode in range(1, n_episodes+1):\n",
    "        # Reset Env and Agent\n",
    "        env_info = env.reset(train_mode=True)[brain_name]           # reset the environment    \n",
    "        states = env_info.vector_observations                       # get the current state (for each agent)\n",
    "        ep_scores = np.zeros(num_agents)                            # initialize the score (for each agent)\n",
    "        agent.reset()\n",
    "        \n",
    "        learn = False                                               # initialize learn flag as false\n",
    "        start_time = time.time()                                    # record episode start time\n",
    "        \n",
    "        for t in range(max_t):\n",
    "            actions = agent.act(states)                             # select an action (for each agent)\n",
    "            \n",
    "            env_info = env.step(actions)[brain_name]                # send all actions to the environment\n",
    "            next_states = env_info.vector_observations              # get next state (for each agent)\n",
    "            rewards = env_info.rewards                              # get reward (for each agent)\n",
    "            \n",
    "            dones = env_info.local_done                             # see if episode finished\n",
    "            \n",
    "            if t%5 == 0:                                            # learn 10 samples from replay buffer every 5th timestep\n",
    "                learn = True\n",
    "            else:\n",
    "                learn = False\n",
    "                \n",
    "            agent.step(states, actions, rewards, next_states, dones, learn)\n",
    "                                                                    # add experience tuples to memory\n",
    "                    \n",
    "            ep_scores += env_info.rewards                           # update the score (for each agent)\n",
    "            states = next_states                                    # roll over states to next time step\n",
    "            \n",
    "            if np.any(dones):                                       # exit loop if episode finished\n",
    "                break\n",
    "\n",
    "        ep_time = time.time() - start_time                          # calculate episode duration\n",
    "        \n",
    "        ep_mean_score = np.mean(ep_scores)                          # episode mean score\n",
    "        interval_scores_deque.append(ep_mean_score)                 # add episode mean score to double ended queue of scores of 25 episodes\n",
    "        total_scores_deque.append(ep_mean_score)                    # add episode mean score to double ended queue of all scores\n",
    "        total_scores.append(ep_mean_score)                          # add episode mean score to scores record\n",
    "        \n",
    "        interval_max_mean_score = np.max(interval_scores_deque)\n",
    "        average_score = np.mean(total_scores_deque)                 # calculate average of all episodes\n",
    "                \n",
    "        print('\\rEpisode {}\\tAverage Score: {:+.2f}\\tEpisode Mean Score: {:+.2f}\\tEpisode Time: {:.2f}s'\n",
    "              .format(i_episode, average_score, ep_mean_score, ep_time), end=\"\")    # print status after every episode (overwritten)\n",
    "\n",
    "        if i_episode % print_every == 0:\n",
    "            torch.save(agent.actor_local.state_dict(), 'checkpoint_actor.pth')               # store actor neural network weights\n",
    "            torch.save(agent.critic_local.state_dict(), 'checkpoint_critic.pth')             # store critic neural network weights\n",
    "            print('\\rEpisode {}\\tAverage Score: {:+.2f}\\tMaximum Episode Mean Score in Last 25 Episodes: {:+.2f}'.format(i_episode, average_score, interval_max_mean_score))    # print status after 25 episodes\n",
    "            \n",
    "        if average_score >= 0.5 and i_episode >= 100:\n",
    "            print('\\nEnvironment solved in {:d} episodes!\\tAverage Score: {:+.2f}'.format(i_episode, average_score))\n",
    "            torch.save(agent.actor_local.state_dict(), 'checkpoint_actor.pth')              # store actor neural network weights\n",
    "            torch.save(agent.critic_local.state_dict(), 'checkpoint_critic.pth')            # store critic neural network weights\n",
    "            break\n",
    "    \n",
    "    return total_scores\n",
    "\n",
    "scores = ddpg()"
   ]
  },
  {
   "cell_type": "markdown",
   "metadata": {},
   "source": [
    "### 5. Plot scores"
   ]
  },
  {
   "cell_type": "code",
   "execution_count": 8,
   "metadata": {},
   "outputs": [
    {
     "data": {
      "image/png": "[encoded data removed]",
      "text/plain": [
       "<matplotlib.figure.Figure at 0x7ffad074df98>"
      ]
     },
     "metadata": {
      "needs_background": "light"
     },
     "output_type": "display_data"
    }
   ],
   "source": [
    "fig = plt.figure()\n",
    "ax = fig.add_subplot(111)\n",
    "plt.plot(np.arange(1, len(scores)+1), scores)\n",
    "plt.ylabel('Score')\n",
    "plt.xlabel('Episode #')\n",
    "plt.show()"
   ]
  },
  {
   "cell_type": "markdown",
   "metadata": {},
   "source": [
    "### 6. Watch a Smart Agent"
   ]
  },
  {
   "cell_type": "code",
   "execution_count": 9,
   "metadata": {},
   "outputs": [
    {
     "name": "stdout",
     "output_type": "stream",
     "text": [
      "Total score: 0.5450000083073974\n"
     ]
    }
   ],
   "source": [
    "# Load the saved weights into Pytorch model\n",
    "agent.actor_local.load_state_dict(torch.load('checkpoint_actor.pth', map_location='cpu'))\n",
    "agent.critic_local.load_state_dict(torch.load('checkpoint_critic.pth', map_location='cpu'))\n",
    "\n",
    "env_info = env.reset(train_mode=False)[brain_name]     # reset the environment    \n",
    "states = env_info.vector_observations                  # get the current state (for each agent)\n",
    "scores = np.zeros(num_agents)                          # initialize the score (for each agent)\n",
    "\n",
    "while True:\n",
    "    actions = agent.act(states)                        # select actions from loaded model agent\n",
    "    env_info = env.step(actions)[brain_name]           # send all actions to tne environment\n",
    "    next_states = env_info.vector_observations         # get next state (for each agent)\n",
    "    rewards = env_info.rewards                         # get reward (for each agent)\n",
    "    dones = env_info.local_done                        # see if episode finished\n",
    "    scores += env_info.rewards                         # update the score (for each agent)\n",
    "    states = next_states                               # roll over states to next time step\n",
    "    if np.any(dones):                                  # exit loop if episode finished\n",
    "        break\n",
    "print('Total score: {}'.format(np.mean(scores)))"
   ]
  },
  {
   "cell_type": "code",
   "execution_count": null,
   "metadata": {},
   "outputs": [],
   "source": [
    "env.close()"
   ]
  }
 ],
 "metadata": {
  "kernelspec": {
   "display_name": "Python 3",
   "language": "python",
   "name": "python3"
  },
  "language_info": {
   "codemirror_mode": {
    "name": "ipython",
    "version": 3
   },
   "file_extension": ".py",
   "mimetype": "text/x-python",
   "name": "python",
   "nbconvert_exporter": "python",
   "pygments_lexer": "ipython3",
   "version": "3.6.3"
  }
 },
 "nbformat": 4,
 "nbformat_minor": 2
}
